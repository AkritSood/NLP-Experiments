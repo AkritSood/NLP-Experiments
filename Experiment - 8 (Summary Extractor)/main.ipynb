{
 "cells": [
  {
   "cell_type": "code",
   "execution_count": 37,
   "metadata": {},
   "outputs": [],
   "source": [
    "import nltk\n",
    "from nltk.corpus import stopwords\n",
    "from nltk.tokenize import word_tokenize, sent_tokenize"
   ]
  },
  {
   "cell_type": "code",
   "execution_count": 38,
   "metadata": {},
   "outputs": [],
   "source": [
    "def text_summarization(text, num_sentences=3):\n",
    "    sentences = sent_tokenize(text)\n",
    "\n",
    "    words = word_tokenize(text)\n",
    "\n",
    "    stop_words = set(stopwords.words('english'))\n",
    "    words = [word for word in words if word.lower() not in stop_words]\n",
    "\n",
    "    # Calculate word frequency\n",
    "    word_freq = nltk.FreqDist(words)\n",
    "\n",
    "    # Assign scores to sentences based on word frequency\n",
    "    sent_scores = {}\n",
    "    for sentence in sentences:\n",
    "        for word in word_tokenize(sentence.lower()):\n",
    "            if word in word_freq:\n",
    "                if len(sentence.split(' ')) < 30: \n",
    "                    if sentence not in sent_scores:\n",
    "                        sent_scores[sentence] = word_freq[word]\n",
    "                    else:\n",
    "                        sent_scores[sentence] += word_freq[word]\n",
    "\n",
    "    # Select the top 'num_sentences' sentences with highest scores\n",
    "    summary_sentences = sorted(sent_scores, key=sent_scores.get, reverse=True)[:num_sentences]\n",
    "\n",
    "    # Join the summary sentences to create the summary\n",
    "    summary = ' '.join(summary_sentences)\n",
    "    return summary\n"
   ]
  },
  {
   "cell_type": "code",
   "execution_count": 39,
   "metadata": {},
   "outputs": [],
   "source": [
    "text=\"\"\"ChatGPT, an innovative creation of OpenAI, stands as a pinnacle of natural language processing technology, leveraging the sophisticated GPT architecture to comprehend and generate text with remarkable fluency and coherence. Trained on an extensive corpus of internet text data, ChatGPT possesses an unparalleled ability to engage in conversations, respond to inquiries, and even generate creative content across a diverse array of subjects and themes. Its versatility knows no bounds, seamlessly transitioning between formal, casual, and even humorous tones to cater to the preferences of its users. Moreover, its proficiency extends beyond the confines of a single language, demonstrating adeptness in understanding and generating text in multiple languages, thereby facilitating interactions with individuals from various linguistic backgrounds. While hailed as a groundbreaking advancement, ChatGPT is not immune to imperfections, occasionally faltering in accuracy or coherence, particularly when confronted with ambiguous or niche queries. Furthermore, ethical considerations regarding the responsible use of AI-generated content and the potential for misinformation loom large in discussions surrounding its deployment. Nevertheless, the potential applications of ChatGPT span far and wide, from enhancing customer service experiences and powering virtual assistants to revolutionizing content creation and language translation services. As research in the field of natural language processing continues to progress, ChatGPT and its ilk stand poised to play an increasingly integral role in shaping the landscape of human-computer interaction, promising a future where seamless communication between humans and machines is not just a possibility but a reality.\"\"\""
   ]
  },
  {
   "cell_type": "code",
   "execution_count": 40,
   "metadata": {},
   "outputs": [
    {
     "name": "stdout",
     "output_type": "stream",
     "text": [
      "Summary:\n",
      "While hailed as a groundbreaking advancement, ChatGPT is not immune to imperfections, occasionally faltering in accuracy or coherence, particularly when confronted with ambiguous or niche queries. Its versatility knows no bounds, seamlessly transitioning between formal, casual, and even humorous tones to cater to the preferences of its users. Nevertheless, the potential applications of ChatGPT span far and wide, from enhancing customer service experiences and powering virtual assistants to revolutionizing content creation and language translation services.\n"
     ]
    }
   ],
   "source": [
    "summary = text_summarization(text)\n",
    "print(\"Summary:\")\n",
    "print(summary)"
   ]
  }
 ],
 "metadata": {
  "kernelspec": {
   "display_name": "Python 3",
   "language": "python",
   "name": "python3"
  },
  "language_info": {
   "codemirror_mode": {
    "name": "ipython",
    "version": 3
   },
   "file_extension": ".py",
   "mimetype": "text/x-python",
   "name": "python",
   "nbconvert_exporter": "python",
   "pygments_lexer": "ipython3",
   "version": "3.11.0"
  }
 },
 "nbformat": 4,
 "nbformat_minor": 2
}
